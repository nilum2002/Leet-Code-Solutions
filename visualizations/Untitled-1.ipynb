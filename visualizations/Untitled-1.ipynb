{
 "cells": [
  {
   "cell_type": "code",
   "execution_count": null,
   "id": "f6c5ba5e",
   "metadata": {},
   "outputs": [
    {
     "name": "stdout",
     "output_type": "stream",
     "text": [
      "Requirement already satisfied: manim in c:\\users\\user\\appdata\\local\\programs\\python\\python311\\lib\\site-packages (0.19.0)\n",
      "Requirement already satisfied: Pillow>=9.1 in c:\\users\\user\\appdata\\local\\programs\\python\\python311\\lib\\site-packages (from manim) (10.4.0)\n",
      "Requirement already satisfied: Pygments>=2.0.0 in c:\\users\\user\\appdata\\local\\programs\\python\\python311\\lib\\site-packages (from manim) (2.18.0)\n",
      "Requirement already satisfied: av<14.0.0,>=9.0.0 in c:\\users\\user\\appdata\\local\\programs\\python\\python311\\lib\\site-packages (from manim) (13.1.0)\n",
      "Requirement already satisfied: beautifulsoup4>=4.12 in c:\\users\\user\\appdata\\local\\programs\\python\\python311\\lib\\site-packages (from manim) (4.12.3)\n",
      "Requirement already satisfied: click>=8.0 in c:\\users\\user\\appdata\\local\\programs\\python\\python311\\lib\\site-packages (from manim) (8.1.8)\n",
      "Requirement already satisfied: cloup>=2.0.0 in c:\\users\\user\\appdata\\local\\programs\\python\\python311\\lib\\site-packages (from manim) (3.0.7)\n",
      "Requirement already satisfied: decorator>=4.3.2 in c:\\users\\user\\appdata\\local\\programs\\python\\python311\\lib\\site-packages (from manim) (5.1.1)\n",
      "Requirement already satisfied: isosurfaces>=0.1.0 in c:\\users\\user\\appdata\\local\\programs\\python\\python311\\lib\\site-packages (from manim) (0.1.2)\n",
      "Requirement already satisfied: manimpango<1.0.0,>=0.5.0 in c:\\users\\user\\appdata\\local\\programs\\python\\python311\\lib\\site-packages (from manim) (0.6.0)\n",
      "Requirement already satisfied: mapbox-earcut>=1.0.0 in c:\\users\\user\\appdata\\local\\programs\\python\\python311\\lib\\site-packages (from manim) (1.0.3)\n",
      "Requirement already satisfied: moderngl<6.0.0,>=5.0.0 in c:\\users\\user\\appdata\\local\\programs\\python\\python311\\lib\\site-packages (from manim) (5.12.0)\n",
      "Requirement already satisfied: moderngl-window>=2.0.0 in c:\\users\\user\\appdata\\local\\programs\\python\\python311\\lib\\site-packages (from manim) (3.1.1)\n",
      "Requirement already satisfied: networkx>=2.6 in c:\\users\\user\\appdata\\local\\programs\\python\\python311\\lib\\site-packages (from manim) (3.4.2)\n",
      "Requirement already satisfied: numpy>=2.1 in c:\\users\\user\\appdata\\local\\programs\\python\\python311\\lib\\site-packages (from manim) (2.2.4)\n",
      "Requirement already satisfied: pycairo<2.0.0,>=1.13 in c:\\users\\user\\appdata\\local\\programs\\python\\python311\\lib\\site-packages (from manim) (1.27.0)\n",
      "Requirement already satisfied: pydub>=0.20.0 in c:\\users\\user\\appdata\\local\\programs\\python\\python311\\lib\\site-packages (from manim) (0.25.1)\n",
      "Requirement already satisfied: rich>=12.0.0 in c:\\users\\user\\appdata\\local\\programs\\python\\python311\\lib\\site-packages (from manim) (13.9.4)\n",
      "Requirement already satisfied: scipy>=1.13.0 in c:\\users\\user\\appdata\\local\\programs\\python\\python311\\lib\\site-packages (from manim) (1.15.2)\n",
      "Requirement already satisfied: screeninfo>=0.7 in c:\\users\\user\\appdata\\local\\programs\\python\\python311\\lib\\site-packages (from manim) (0.8.1)\n",
      "Requirement already satisfied: skia-pathops>=0.7.0 in c:\\users\\user\\appdata\\local\\programs\\python\\python311\\lib\\site-packages (from manim) (0.8.0.post2)\n",
      "Requirement already satisfied: srt>=3.0.0 in c:\\users\\user\\appdata\\local\\programs\\python\\python311\\lib\\site-packages (from manim) (3.5.3)\n",
      "Requirement already satisfied: svgelements>=1.8.0 in c:\\users\\user\\appdata\\local\\programs\\python\\python311\\lib\\site-packages (from manim) (1.9.6)\n",
      "Requirement already satisfied: tqdm>=4.0.0 in c:\\users\\user\\appdata\\local\\programs\\python\\python311\\lib\\site-packages (from manim) (4.67.1)\n",
      "Requirement already satisfied: typing-extensions>=4.0.0 in c:\\users\\user\\appdata\\local\\programs\\python\\python311\\lib\\site-packages (from manim) (4.12.2)\n",
      "Requirement already satisfied: watchdog>=2.0.0 in c:\\users\\user\\appdata\\local\\programs\\python\\python311\\lib\\site-packages (from manim) (6.0.0)\n",
      "Requirement already satisfied: soupsieve>1.2 in c:\\users\\user\\appdata\\local\\programs\\python\\python311\\lib\\site-packages (from beautifulsoup4>=4.12->manim) (2.5)\n",
      "Requirement already satisfied: colorama in c:\\users\\user\\appdata\\local\\programs\\python\\python311\\lib\\site-packages (from click>=8.0->manim) (0.4.6)\n",
      "Requirement already satisfied: glcontext>=3.0.0 in c:\\users\\user\\appdata\\local\\programs\\python\\python311\\lib\\site-packages (from moderngl<6.0.0,>=5.0.0->manim) (3.0.0)\n",
      "Requirement already satisfied: pyglet>=2.0.0 in c:\\users\\user\\appdata\\local\\programs\\python\\python311\\lib\\site-packages (from moderngl-window>=2.0.0->manim) (2.1.3)\n",
      "Requirement already satisfied: pyglm<3,>=2.7.0 in c:\\users\\user\\appdata\\local\\programs\\python\\python311\\lib\\site-packages (from moderngl-window>=2.0.0->manim) (2.8.1)\n",
      "Requirement already satisfied: markdown-it-py>=2.2.0 in c:\\users\\user\\appdata\\local\\programs\\python\\python311\\lib\\site-packages (from rich>=12.0.0->manim) (3.0.0)\n",
      "Requirement already satisfied: mdurl~=0.1 in c:\\users\\user\\appdata\\local\\programs\\python\\python311\\lib\\site-packages (from markdown-it-py>=2.2.0->rich>=12.0.0->manim) (0.1.2)\n",
      "Note: you may need to restart the kernel to use updated packages.\n"
     ]
    },
    {
     "name": "stderr",
     "output_type": "stream",
     "text": [
      "c:\\Users\\USER\\AppData\\Local\\Programs\\Python\\Python311\\Lib\\site-packages\\pydub\\utils.py:170: RuntimeWarning: Couldn't find ffmpeg or avconv - defaulting to ffmpeg, but may not work\n",
      "  warn(\"Couldn't find ffmpeg or avconv - defaulting to ffmpeg, but may not work\", RuntimeWarning)\n"
     ]
    }
   ],
   "source": [
    "# Install the manim library\n",
    "\n",
    "\n",
    "from manim import *\n",
    "\n",
    "class HelloWorld(Scene):\n",
    "    def construct(self):\n",
    "        text = Text(\"Hello, Manim!\")\n",
    "        self.play(Write(text))\n",
    "        self.wait(1)\n"
   ]
  },
  {
   "cell_type": "code",
   "execution_count": 3,
   "id": "5c84f9a9",
   "metadata": {},
   "outputs": [],
   "source": [
    "from manim import Scene, Circle, Text, Arrow, BLUE, GRAY, RED, GREEN, RIGHT, LEFT, UP, DOWN, Create, Write, FadeOut\n",
    "\n",
    "class RemoveNthFromEnd(Scene):\n",
    "    def construct(self):\n",
    "        # Create linked list nodes visually: 1 -> 2 -> 3 -> 4 -> 5\n",
    "        nodes = [Circle(radius=0.4, color=BLUE).shift(RIGHT * i) for i in range(5)]\n",
    "        labels = [Text(str(i+1), font_size=24).move_to(nodes[i]) for i in range(5)]\n",
    "        \n",
    "        # Create arrows between nodes\n",
    "        arrows = [Arrow(nodes[i].get_right(), nodes[i+1].get_left(), buff=0.05) for i in range(4)]\n",
    "\n",
    "        # Display all nodes and labels\n",
    "        for node, label in zip(nodes, labels):\n",
    "            self.play(Create(node), Write(label))\n",
    "        for arrow in arrows:\n",
    "            self.play(Create(arrow), run_time=0.2)\n",
    "\n",
    "        self.wait(1)\n",
    "\n",
    "        # Mark dummy node\n",
    "        dummy = Circle(radius=0.4, color=GRAY).shift(LEFT)\n",
    "        dummy_label = Text(\"0\", font_size=24).move_to(dummy)\n",
    "        dummy_arrow = Arrow(dummy.get_right(), nodes[0].get_left(), buff=0.05)\n",
    "        self.play(Create(dummy), Write(dummy_label), Create(dummy_arrow))\n",
    "\n",
    "        self.wait(1)\n",
    "        #manim -pqh remove_nth_node.py RemoveNthFromEnd\n",
    " \n",
    "\n",
    "        # A and B pointers\n",
    "        A_pointer = Text(\"A\", font_size=24, color=BLUE).next_to(nodes[2], UP)\n",
    "        B_pointer = Text(\"B\", font_size=24, color=GREEN).next_to(nodes[1], DOWN)\n",
    "        self.play(Write(A_pointer), Write(B_pointer))\n",
    "        self.wait(1)\n",
    "\n",
    "        # Remove node 4 (index 3)\n",
    "        self.play(FadeOut(arrows[2]), run_time=0.5)  # Remove arrow to node 4\n",
    "        new_arrow = Arrow(nodes[2].get_right(), nodes[4].get_left(), buff=0.05, color=RED)\n",
    "        self.play(Create(new_arrow), run_time=0.5)\n",
    "\n",
    "        self.wait(2)\n"
   ]
  },
  {
   "cell_type": "code",
   "execution_count": null,
   "id": "45c5b7b2",
   "metadata": {},
   "outputs": [],
   "source": [
    "manim -pql Untitled-1.ipynb HelloWorld"
   ]
  }
 ],
 "metadata": {
  "kernelspec": {
   "display_name": "Python 3",
   "language": "python",
   "name": "python3"
  },
  "language_info": {
   "codemirror_mode": {
    "name": "ipython",
    "version": 3
   },
   "file_extension": ".py",
   "mimetype": "text/x-python",
   "name": "python",
   "nbconvert_exporter": "python",
   "pygments_lexer": "ipython3",
   "version": "3.11.9"
  }
 },
 "nbformat": 4,
 "nbformat_minor": 5
}
